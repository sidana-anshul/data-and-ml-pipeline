{
 "cells": [
  {
   "cell_type": "markdown",
   "metadata": {},
   "source": [
    "#### Objective: Exploratory data anlaysis on hive tables using pyspark"
   ]
  },
  {
   "cell_type": "markdown",
   "metadata": {},
   "source": [
    "#### Import dependencies and initiate SparkSession"
   ]
  },
  {
   "cell_type": "code",
   "execution_count": 110,
   "metadata": {},
   "outputs": [],
   "source": [
    "# import dependencies\n",
    "\n",
    "from pyspark.sql import SparkSession\n",
    "import pandas as pd\n",
    "import matplotlib.pyplot as plt\n",
    "from pyspark.sql.functions import *\n",
    "\n",
    "%matplotlib inline"
   ]
  },
  {
   "cell_type": "code",
   "execution_count": 2,
   "metadata": {},
   "outputs": [],
   "source": [
    "# initiate SparkSession that can connect to the hive metastore and run hive queries\n",
    "\n",
    "spark = (SparkSession.builder.appName(\"app_name\") \\\n",
    "                         .config(\"hive.metastore.uris\",\"thrift://ip-10-1-2-24.ap-south-1.compute.internal:9083\") \\\n",
    "                         .enableHiveSupport().getOrCreate())"
   ]
  },
  {
   "cell_type": "markdown",
   "metadata": {},
   "source": [
    "#### Importing the required hive tables into spark DataFrame"
   ]
  },
  {
   "cell_type": "code",
   "execution_count": 8,
   "metadata": {},
   "outputs": [],
   "source": [
    "employees_df = spark.table('anshulalab.employees_cap')\n",
    "salaries_df = spark.table('anshulalab.salaries_cap')\n",
    "departments_df = spark.table('anshulalab.departments_cap')\n",
    "titles_df = spark.table('anshulalab.titles_cap')\n",
    "dept_manager_df = spark.table('anshulalab.dept_manager_cap')\n",
    "dept_emp_df = spark.table('anshulalab.dept_emp_cap')"
   ]
  },
  {
   "cell_type": "code",
   "execution_count": 7,
   "metadata": {},
   "outputs": [
    {
     "name": "stdout",
     "output_type": "stream",
     "text": [
      "+------+------------+----------+----------+----------+---+----------+--------------+-----------------------+------------+----------+\n",
      "|emp_no|emp_title_id|birth_date|first_name|last_name |sex|hire_date |no_of_projects|last_performance_rating|left_company|last_date |\n",
      "+------+------------+----------+----------+----------+---+----------+--------------+-----------------------+------------+----------+\n",
      "|473302|s0001       |1953-07-25|Hideyuki  |Zallocco  |M  |1990-04-28|2             |A                      |false       |null      |\n",
      "|475053|e0002       |1954-11-18|Byong     |Delgrande |F  |1991-09-07|1             |C                      |false       |null      |\n",
      "|57444 |e0002       |1958-01-30|Berry     |Babb      |F  |1992-03-21|9             |A                      |false       |null      |\n",
      "|421786|s0001       |1957-09-28|Xiong     |Verhoeff  |M  |1987-11-26|2             |C                      |false       |null      |\n",
      "|282238|e0003       |1952-10-28|Abdelkader|Baumann   |F  |1991-01-18|6             |B                      |false       |null      |\n",
      "|263976|e0003       |1959-10-30|Eran      |Cusworth  |M  |1986-11-14|8             |B                      |true        |1993-08-21|\n",
      "|273487|s0001       |1957-04-14|Christoph |Parfitt   |M  |1991-06-28|10            |A                      |false       |null      |\n",
      "|461591|s0002       |1964-11-17|Xudong    |Samarati  |M  |1985-11-13|2             |A                      |true        |1994-08-21|\n",
      "|477657|e0002       |1962-12-18|Lihong    |Magliocco |M  |1993-10-23|5             |A                      |false       |null      |\n",
      "|219881|s0002       |1956-04-24|Kwangyoen |Speek     |F  |1993-02-14|6             |B                      |false       |null      |\n",
      "|29920 |e0002       |1961-12-31|Shuichi   |Tyugu     |F  |1995-01-17|1             |PIP                    |false       |null      |\n",
      "|208153|e0003       |1961-10-25|Abdulah   |Lunn      |M  |1989-04-08|8             |C                      |true        |2000-08-02|\n",
      "|13616 |e0003       |1961-08-30|Perry     |Lorho     |F  |1991-08-03|7             |C                      |false       |null      |\n",
      "|246449|s0001       |1958-03-23|Subbu     |Bultermann|F  |1988-03-25|9             |C                      |false       |null      |\n",
      "|21529 |e0002       |1959-05-19|Bojan     |Zallocco  |M  |1986-10-14|7             |C                      |false       |null      |\n",
      "|17934 |e0004       |1963-07-12|Bilhanan  |Wuwongse  |M  |1993-10-06|7             |C                      |false       |null      |\n",
      "|48085 |s0001       |1964-01-19|Venkatesan|Gilg      |M  |1993-06-28|9             |B                      |false       |null      |\n",
      "|239838|e0002       |1957-12-11|Naftali   |Dulli     |M  |1993-06-06|3             |A                      |false       |null      |\n",
      "|240129|e0004       |1952-08-11|Roddy     |Karnin    |M  |1985-05-29|10            |C                      |false       |null      |\n",
      "|205246|s0002       |1958-11-25|Nevio     |Demizu    |F  |1986-05-18|8             |B                      |false       |null      |\n",
      "+------+------------+----------+----------+----------+---+----------+--------------+-----------------------+------------+----------+\n",
      "only showing top 20 rows\n",
      "\n"
     ]
    }
   ],
   "source": [
    "employees_df.show(truncate=False)"
   ]
  },
  {
   "cell_type": "code",
   "execution_count": 9,
   "metadata": {},
   "outputs": [
    {
     "name": "stdout",
     "output_type": "stream",
     "text": [
      "+------+------+\n",
      "|emp_no|salary|\n",
      "+------+------+\n",
      "| 10001| 60117|\n",
      "| 10002| 65828|\n",
      "| 10003| 40006|\n",
      "| 10004| 40054|\n",
      "| 10005| 78228|\n",
      "| 10006| 40000|\n",
      "| 10007| 56724|\n",
      "| 10008| 46671|\n",
      "| 10009| 60929|\n",
      "| 10010| 72488|\n",
      "| 10011| 42365|\n",
      "| 10012| 40000|\n",
      "| 10013| 40000|\n",
      "| 10014| 46168|\n",
      "| 10015| 40000|\n",
      "| 10016| 70889|\n",
      "| 10017| 71380|\n",
      "| 10018| 55881|\n",
      "| 10019| 44276|\n",
      "| 10020| 40000|\n",
      "+------+------+\n",
      "only showing top 20 rows\n",
      "\n"
     ]
    }
   ],
   "source": [
    "salaries_df.show()"
   ]
  },
  {
   "cell_type": "code",
   "execution_count": 10,
   "metadata": {},
   "outputs": [
    {
     "name": "stdout",
     "output_type": "stream",
     "text": [
      "+--------+------------------+\n",
      "|title_id|             title|\n",
      "+--------+------------------+\n",
      "|   s0001|             Staff|\n",
      "|   s0002|      Senior Staff|\n",
      "|   e0001|Assistant Engineer|\n",
      "|   e0002|          Engineer|\n",
      "|   e0003|   Senior Engineer|\n",
      "|   e0004|  Technique Leader|\n",
      "|   m0001|           Manager|\n",
      "+--------+------------------+\n",
      "\n"
     ]
    }
   ],
   "source": [
    "titles_df.show()"
   ]
  },
  {
   "cell_type": "code",
   "execution_count": 11,
   "metadata": {},
   "outputs": [
    {
     "name": "stdout",
     "output_type": "stream",
     "text": [
      "+-------+------------------+\n",
      "|dept_no|         dept_name|\n",
      "+-------+------------------+\n",
      "|   d001|         Marketing|\n",
      "|   d002|           Finance|\n",
      "|   d003|   Human Resources|\n",
      "|   d004|        Production|\n",
      "|   d005|       development|\n",
      "|   d006|Quality Management|\n",
      "|   d007|             Sales|\n",
      "|   d008|          Research|\n",
      "|   d009|  Customer Service|\n",
      "+-------+------------------+\n",
      "\n"
     ]
    }
   ],
   "source": [
    "departments_df.show()"
   ]
  },
  {
   "cell_type": "code",
   "execution_count": 12,
   "metadata": {},
   "outputs": [
    {
     "name": "stdout",
     "output_type": "stream",
     "text": [
      "+-------+------+\n",
      "|dept_no|emp_no|\n",
      "+-------+------+\n",
      "|   d001|110022|\n",
      "|   d001|110039|\n",
      "|   d002|110085|\n",
      "|   d002|110114|\n",
      "|   d003|110183|\n",
      "|   d003|110228|\n",
      "|   d004|110303|\n",
      "|   d004|110344|\n",
      "|   d004|110386|\n",
      "|   d004|110420|\n",
      "|   d005|110511|\n",
      "|   d005|110567|\n",
      "|   d006|110725|\n",
      "|   d006|110765|\n",
      "|   d006|110800|\n",
      "|   d006|110854|\n",
      "|   d007|111035|\n",
      "|   d007|111133|\n",
      "|   d008|111400|\n",
      "|   d008|111534|\n",
      "+-------+------+\n",
      "only showing top 20 rows\n",
      "\n"
     ]
    }
   ],
   "source": [
    "dept_manager_df.show()"
   ]
  },
  {
   "cell_type": "code",
   "execution_count": 13,
   "metadata": {},
   "outputs": [
    {
     "name": "stdout",
     "output_type": "stream",
     "text": [
      "+------+-------+\n",
      "|emp_no|dept_no|\n",
      "+------+-------+\n",
      "| 10001|   d005|\n",
      "| 10002|   d007|\n",
      "| 10003|   d004|\n",
      "| 10004|   d004|\n",
      "| 10005|   d003|\n",
      "| 10006|   d005|\n",
      "| 10007|   d008|\n",
      "| 10008|   d005|\n",
      "| 10009|   d006|\n",
      "| 10010|   d004|\n",
      "| 10010|   d006|\n",
      "| 10011|   d009|\n",
      "| 10012|   d005|\n",
      "| 10013|   d003|\n",
      "| 10014|   d005|\n",
      "| 10015|   d008|\n",
      "| 10016|   d007|\n",
      "| 10017|   d001|\n",
      "| 10018|   d004|\n",
      "| 10018|   d005|\n",
      "+------+-------+\n",
      "only showing top 20 rows\n",
      "\n"
     ]
    }
   ],
   "source": [
    "dept_emp_df.show()"
   ]
  },
  {
   "cell_type": "markdown",
   "metadata": {},
   "source": [
    "#### Exploratory data analysis"
   ]
  },
  {
   "cell_type": "code",
   "execution_count": 18,
   "metadata": {},
   "outputs": [
    {
     "name": "stdout",
     "output_type": "stream",
     "text": [
      "+------+----------+----------+---+------+\n",
      "|emp_no|first_name| last_name|sex|salary|\n",
      "+------+----------+----------+---+------+\n",
      "|473302|  Hideyuki|  Zallocco|  M| 40000|\n",
      "|475053|     Byong| Delgrande|  F| 53422|\n",
      "| 57444|     Berry|      Babb|  F| 48973|\n",
      "|421786|     Xiong|  Verhoeff|  M| 40000|\n",
      "|282238|Abdelkader|   Baumann|  F| 40000|\n",
      "|263976|      Eran|  Cusworth|  M| 40000|\n",
      "|273487| Christoph|   Parfitt|  M| 56087|\n",
      "|461591|    Xudong|  Samarati|  M| 40000|\n",
      "|477657|    Lihong| Magliocco|  M| 54816|\n",
      "|219881| Kwangyoen|     Speek|  F| 40000|\n",
      "| 29920|   Shuichi|     Tyugu|  F| 40000|\n",
      "|208153|   Abdulah|      Lunn|  M| 50183|\n",
      "| 13616|     Perry|     Lorho|  F| 40000|\n",
      "|246449|     Subbu|Bultermann|  F| 87084|\n",
      "| 21529|     Bojan|  Zallocco|  M| 40000|\n",
      "| 17934|  Bilhanan|  Wuwongse|  M| 48795|\n",
      "| 48085|Venkatesan|      Gilg|  M| 63016|\n",
      "|239838|   Naftali|     Dulli|  M| 57715|\n",
      "|240129|     Roddy|    Karnin|  M| 43548|\n",
      "|205246|     Nevio|    Demizu|  F| 80252|\n",
      "+------+----------+----------+---+------+\n",
      "only showing top 20 rows\n",
      "\n"
     ]
    }
   ],
   "source": [
    "##### 1(a). Get the list of employee number, last name, first name, sex, and salary of each employee\n",
    "\n",
    "## using spark sql\n",
    "\n",
    "spark.sql(\"\"\"select t1.emp_no, t1.first_name, t1.last_name, t1.sex, t2.salary \n",
    "             from anshulalab.employees_cap t1\n",
    "             join anshulalab.salaries_cap t2 on t1.emp_no = t2.emp_no\"\"\").show()"
   ]
  },
  {
   "cell_type": "code",
   "execution_count": 24,
   "metadata": {},
   "outputs": [
    {
     "name": "stdout",
     "output_type": "stream",
     "text": [
      "+------+----------+----------+---+------+\n",
      "|emp_no| last_name|first_name|sex|salary|\n",
      "+------+----------+----------+---+------+\n",
      "|473302|  Zallocco|  Hideyuki|  M| 40000|\n",
      "|475053| Delgrande|     Byong|  F| 53422|\n",
      "| 57444|      Babb|     Berry|  F| 48973|\n",
      "|421786|  Verhoeff|     Xiong|  M| 40000|\n",
      "|282238|   Baumann|Abdelkader|  F| 40000|\n",
      "|263976|  Cusworth|      Eran|  M| 40000|\n",
      "|273487|   Parfitt| Christoph|  M| 56087|\n",
      "|461591|  Samarati|    Xudong|  M| 40000|\n",
      "|477657| Magliocco|    Lihong|  M| 54816|\n",
      "|219881|     Speek| Kwangyoen|  F| 40000|\n",
      "| 29920|     Tyugu|   Shuichi|  F| 40000|\n",
      "|208153|      Lunn|   Abdulah|  M| 50183|\n",
      "| 13616|     Lorho|     Perry|  F| 40000|\n",
      "|246449|Bultermann|     Subbu|  F| 87084|\n",
      "| 21529|  Zallocco|     Bojan|  M| 40000|\n",
      "| 17934|  Wuwongse|  Bilhanan|  M| 48795|\n",
      "| 48085|      Gilg|Venkatesan|  M| 63016|\n",
      "|239838|     Dulli|   Naftali|  M| 57715|\n",
      "|240129|    Karnin|     Roddy|  M| 43548|\n",
      "|205246|    Demizu|     Nevio|  F| 80252|\n",
      "+------+----------+----------+---+------+\n",
      "only showing top 20 rows\n",
      "\n"
     ]
    }
   ],
   "source": [
    "## using spark dataframe\n",
    "\n",
    "employees_df.join(salaries_df, 'emp_no').select('emp_no', 'last_name','first_name','sex','salary').show()"
   ]
  },
  {
   "cell_type": "code",
   "execution_count": 31,
   "metadata": {},
   "outputs": [
    {
     "name": "stdout",
     "output_type": "stream",
     "text": [
      "+----------+-----------+----------+\n",
      "|first_name|  last_name| hire_date|\n",
      "+----------+-----------+----------+\n",
      "|      Eran|   Cusworth|1986-11-14|\n",
      "|     Bojan|   Zallocco|1986-10-14|\n",
      "|     Nevio|     Demizu|1986-05-18|\n",
      "|      Ziva|     Vecchi|1986-07-03|\n",
      "|     Mohit|      Speek|1986-01-14|\n",
      "|  Qunsheng|      Speer|1986-02-13|\n",
      "|     Dines|Encarnacion|1986-08-02|\n",
      "|  Harngdar|      Swick|1986-05-28|\n",
      "|    Freyja|      Uhrig|1986-12-20|\n",
      "|   Zhenhua|    Milicic|1986-08-04|\n",
      "|     Bowen|   Schmezko|1986-05-30|\n",
      "|    Reuven|      Munke|1986-04-13|\n",
      "| Stabislas|    Domenig|1986-08-04|\n",
      "| Juichirou|   Jumpertz|1986-09-18|\n",
      "| Juichirou|     Ghelli|1986-12-13|\n",
      "|    Shmuel|      Georg|1986-11-30|\n",
      "|   Xiadong|       Bach|1986-04-29|\n",
      "| Guangming|Butterworth|1986-10-01|\n",
      "|     Irene|      Setia|1986-08-10|\n",
      "|   Shuichi|     Swiler|1986-06-08|\n",
      "+----------+-----------+----------+\n",
      "only showing top 20 rows\n",
      "\n"
     ]
    }
   ],
   "source": [
    "#### 1(b). Show the first_name, last_name, hire_date for employees hired in 1968\n",
    "\n",
    "## using spark sql\n",
    "\n",
    "spark.sql(\"\"\"select first_name, last_name, hire_date\n",
    "             from anshulalab.employees_cap\n",
    "             where year(hire_date) = 1986\"\"\").show()"
   ]
  },
  {
   "cell_type": "code",
   "execution_count": 29,
   "metadata": {},
   "outputs": [
    {
     "name": "stdout",
     "output_type": "stream",
     "text": [
      "+----------+-----------+----------+\n",
      "|first_name|  last_name| hire_date|\n",
      "+----------+-----------+----------+\n",
      "|      Eran|   Cusworth|1986-11-14|\n",
      "|     Bojan|   Zallocco|1986-10-14|\n",
      "|     Nevio|     Demizu|1986-05-18|\n",
      "|      Ziva|     Vecchi|1986-07-03|\n",
      "|     Mohit|      Speek|1986-01-14|\n",
      "|  Qunsheng|      Speer|1986-02-13|\n",
      "|     Dines|Encarnacion|1986-08-02|\n",
      "|  Harngdar|      Swick|1986-05-28|\n",
      "|    Freyja|      Uhrig|1986-12-20|\n",
      "|   Zhenhua|    Milicic|1986-08-04|\n",
      "|     Bowen|   Schmezko|1986-05-30|\n",
      "|    Reuven|      Munke|1986-04-13|\n",
      "| Stabislas|    Domenig|1986-08-04|\n",
      "| Juichirou|   Jumpertz|1986-09-18|\n",
      "| Juichirou|     Ghelli|1986-12-13|\n",
      "|    Shmuel|      Georg|1986-11-30|\n",
      "|   Xiadong|       Bach|1986-04-29|\n",
      "| Guangming|Butterworth|1986-10-01|\n",
      "|     Irene|      Setia|1986-08-10|\n",
      "|   Shuichi|     Swiler|1986-06-08|\n",
      "+----------+-----------+----------+\n",
      "only showing top 20 rows\n",
      "\n"
     ]
    }
   ],
   "source": [
    "## using pyspark dataframe\n",
    "\n",
    "employees_df.where(year('hire_date') == 1986).select('first_name', 'last_name', 'hire_date').show()"
   ]
  },
  {
   "cell_type": "code",
   "execution_count": 34,
   "metadata": {},
   "outputs": [
    {
     "name": "stdout",
     "output_type": "stream",
     "text": [
      "+-------+------------------+------+------------+-----------+\n",
      "|dept_no|         dept_name|emp_no|   last_name| first_name|\n",
      "+-------+------------------+------+------------+-----------+\n",
      "|   d009|  Customer Service|111877|    Spinelli|    Xiaobin|\n",
      "|   d008|          Research|111534|      Kambil|     Hilary|\n",
      "|   d006|Quality Management|110765|     Hofmeyr|     Rutger|\n",
      "|   d004|        Production|110420|    Ghazalie|      Oscar|\n",
      "|   d006|Quality Management|110725|     Onuegbe|  Peternela|\n",
      "|   d001|         Marketing|110022|  Markovitch|  Margareta|\n",
      "|   d007|             Sales|111035|   Kaelbling|Przemyslawa|\n",
      "|   d005|       development|110511|    Hagimont|   DeForest|\n",
      "|   d005|       development|110567|    DasSarma|       Leon|\n",
      "|   d003|   Human Resources|110183|Ossenbruggen|    Shirish|\n",
      "|   d009|  Customer Service|111939|     Weedman|    Yuchang|\n",
      "|   d002|           Finance|110114|  Legleitner|      Isamu|\n",
      "|   d006|Quality Management|110854|       Pesch|       Dung|\n",
      "|   d001|         Marketing|110039|    Minakawa|   Vishwani|\n",
      "|   d006|Quality Management|110800|     Quadeer|     Sanjoy|\n",
      "|   d003|   Human Resources|110228|     Sigstam|    Karsten|\n",
      "|   d004|        Production|110303|     Wegerle|  Krassimir|\n",
      "|   d004|        Production|110344|       Cools|     Rosine|\n",
      "|   d009|  Customer Service|111692| Butterworth|      Tonny|\n",
      "|   d008|          Research|111400|     Staelin|       Arie|\n",
      "+-------+------------------+------+------------+-----------+\n",
      "only showing top 20 rows\n",
      "\n"
     ]
    }
   ],
   "source": [
    "#### 2. A list showing the manager of each department with the following information: department number, department name, \n",
    "#       the manager's employee number, last name, first name\n",
    "\n",
    "## using spark sql\n",
    "\n",
    "spark.sql(\"\"\"select t1.dept_no, t2.dept_name, t1.emp_no,\n",
    "             t3.last_name, t3.first_name\n",
    "             from anshulalab.dept_manager_cap t1\n",
    "             join anshulalab.departments_cap t2 on t1.dept_no = t2.dept_no\n",
    "             join anshulalab.employees_cap t3 on t1.emp_no = t3.emp_no\"\"\").show()"
   ]
  },
  {
   "cell_type": "code",
   "execution_count": 38,
   "metadata": {},
   "outputs": [
    {
     "name": "stdout",
     "output_type": "stream",
     "text": [
      "+-------+------------------+------+------------+-----------+\n",
      "|dept_no|         dept_name|emp_no|   last_name| first_name|\n",
      "+-------+------------------+------+------------+-----------+\n",
      "|   d009|  Customer Service|111877|    Spinelli|    Xiaobin|\n",
      "|   d008|          Research|111534|      Kambil|     Hilary|\n",
      "|   d006|Quality Management|110765|     Hofmeyr|     Rutger|\n",
      "|   d004|        Production|110420|    Ghazalie|      Oscar|\n",
      "|   d006|Quality Management|110725|     Onuegbe|  Peternela|\n",
      "|   d001|         Marketing|110022|  Markovitch|  Margareta|\n",
      "|   d007|             Sales|111035|   Kaelbling|Przemyslawa|\n",
      "|   d005|       development|110511|    Hagimont|   DeForest|\n",
      "|   d005|       development|110567|    DasSarma|       Leon|\n",
      "|   d003|   Human Resources|110183|Ossenbruggen|    Shirish|\n",
      "|   d009|  Customer Service|111939|     Weedman|    Yuchang|\n",
      "|   d002|           Finance|110114|  Legleitner|      Isamu|\n",
      "|   d006|Quality Management|110854|       Pesch|       Dung|\n",
      "|   d001|         Marketing|110039|    Minakawa|   Vishwani|\n",
      "|   d006|Quality Management|110800|     Quadeer|     Sanjoy|\n",
      "|   d003|   Human Resources|110228|     Sigstam|    Karsten|\n",
      "|   d004|        Production|110303|     Wegerle|  Krassimir|\n",
      "|   d004|        Production|110344|       Cools|     Rosine|\n",
      "|   d009|  Customer Service|111692| Butterworth|      Tonny|\n",
      "|   d008|          Research|111400|     Staelin|       Arie|\n",
      "+-------+------------------+------+------------+-----------+\n",
      "only showing top 20 rows\n",
      "\n"
     ]
    }
   ],
   "source": [
    "dept_manager_df.join(employees_df, 'emp_no') \\\n",
    "               .join(departments_df, 'dept_no') \\\n",
    "               .select('dept_no', 'dept_name', 'emp_no', 'last_name', 'first_name').show()"
   ]
  },
  {
   "cell_type": "code",
   "execution_count": 40,
   "metadata": {},
   "outputs": [
    {
     "name": "stdout",
     "output_type": "stream",
     "text": [
      "+------+----------+----------+------------------+\n",
      "|emp_no|first_name| last_name|         dept_name|\n",
      "+------+----------+----------+------------------+\n",
      "|473302|  Hideyuki|  Zallocco|           Finance|\n",
      "|475053|     Byong| Delgrande|        Production|\n",
      "| 57444|     Berry|      Babb|        Production|\n",
      "|421786|     Xiong|  Verhoeff|   Human Resources|\n",
      "|282238|Abdelkader|   Baumann|Quality Management|\n",
      "|263976|      Eran|  Cusworth|Quality Management|\n",
      "|273487| Christoph|   Parfitt|   Human Resources|\n",
      "|461591|    Xudong|  Samarati|           Finance|\n",
      "|477657|    Lihong| Magliocco|Quality Management|\n",
      "|219881| Kwangyoen|     Speek|  Customer Service|\n",
      "| 29920|   Shuichi|     Tyugu|        Production|\n",
      "|208153|   Abdulah|      Lunn|       development|\n",
      "| 13616|     Perry|     Lorho|          Research|\n",
      "| 13616|     Perry|     Lorho|       development|\n",
      "|246449|     Subbu|Bultermann|             Sales|\n",
      "| 21529|     Bojan|  Zallocco|       development|\n",
      "| 17934|  Bilhanan|  Wuwongse|       development|\n",
      "| 48085|Venkatesan|      Gilg|           Finance|\n",
      "|239838|   Naftali|     Dulli|        Production|\n",
      "|240129|     Roddy|    Karnin|Quality Management|\n",
      "+------+----------+----------+------------------+\n",
      "only showing top 20 rows\n",
      "\n"
     ]
    }
   ],
   "source": [
    "#### 3. A list showing the department of each employee with the following information: employee number, last name, first \n",
    "#       name, and department name.\n",
    "\n",
    "# using spark sql\n",
    "\n",
    "spark.sql(\"\"\"select t1.emp_no, t1.first_name, t1.last_name, t3.dept_name\n",
    "             from anshulalab.employees_cap t1\n",
    "             join anshulalab.dept_emp_cap t2 on t1.emp_no = t2.emp_no\n",
    "             join anshulalab.departments_cap t3 on t2.dept_no = t3.dept_no\"\"\").show()"
   ]
  },
  {
   "cell_type": "code",
   "execution_count": 45,
   "metadata": {},
   "outputs": [
    {
     "name": "stdout",
     "output_type": "stream",
     "text": [
      "+------+----------+----------+------------------+\n",
      "|emp_no|first_name| last_name|         dept_name|\n",
      "+------+----------+----------+------------------+\n",
      "|473302|  Hideyuki|  Zallocco|           Finance|\n",
      "|475053|     Byong| Delgrande|        Production|\n",
      "| 57444|     Berry|      Babb|        Production|\n",
      "|421786|     Xiong|  Verhoeff|   Human Resources|\n",
      "|282238|Abdelkader|   Baumann|Quality Management|\n",
      "|263976|      Eran|  Cusworth|Quality Management|\n",
      "|273487| Christoph|   Parfitt|   Human Resources|\n",
      "|461591|    Xudong|  Samarati|           Finance|\n",
      "|477657|    Lihong| Magliocco|Quality Management|\n",
      "|219881| Kwangyoen|     Speek|  Customer Service|\n",
      "| 29920|   Shuichi|     Tyugu|        Production|\n",
      "|208153|   Abdulah|      Lunn|       development|\n",
      "| 13616|     Perry|     Lorho|          Research|\n",
      "| 13616|     Perry|     Lorho|       development|\n",
      "|246449|     Subbu|Bultermann|             Sales|\n",
      "| 21529|     Bojan|  Zallocco|       development|\n",
      "| 17934|  Bilhanan|  Wuwongse|       development|\n",
      "| 48085|Venkatesan|      Gilg|           Finance|\n",
      "|239838|   Naftali|     Dulli|        Production|\n",
      "|240129|     Roddy|    Karnin|Quality Management|\n",
      "+------+----------+----------+------------------+\n",
      "only showing top 20 rows\n",
      "\n"
     ]
    }
   ],
   "source": [
    "# using spark dataframe\n",
    "\n",
    "employees_df.join(dept_emp_df, 'emp_no') \\\n",
    "            .join(departments_df, 'dept_no') \\\n",
    "            .select('emp_no', 'first_name', 'last_name', 'dept_name').show()"
   ]
  },
  {
   "cell_type": "code",
   "execution_count": 61,
   "metadata": {},
   "outputs": [
    {
     "name": "stdout",
     "output_type": "stream",
     "text": [
      "+----------+-------------+---+\n",
      "|first_name|    last_name|sex|\n",
      "+----------+-------------+---+\n",
      "|  Hercules|         Baer|  M|\n",
      "|  Hercules|        Biron|  F|\n",
      "|  Hercules|        Birge|  F|\n",
      "|  Hercules|      Berstel|  F|\n",
      "|  Hercules|    Bernatsky|  M|\n",
      "|  Hercules|         Bail|  F|\n",
      "|  Hercules|       Bodoff|  M|\n",
      "|  Hercules|     Benantar|  F|\n",
      "|  Hercules|      Basagni|  M|\n",
      "|  Hercules|Bernardinello|  F|\n",
      "|  Hercules|   Baranowski|  M|\n",
      "|  Hercules|      Bisiani|  F|\n",
      "|  Hercules|   Benzmuller|  M|\n",
      "|  Hercules|         Bahr|  M|\n",
      "|  Hercules|        Biran|  F|\n",
      "|  Hercules|         Bain|  F|\n",
      "|  Hercules|      Brendel|  F|\n",
      "|  Hercules|      Buchter|  M|\n",
      "|  Hercules|     Barreiro|  M|\n",
      "|  Hercules|         Baak|  M|\n",
      "+----------+-------------+---+\n",
      "\n"
     ]
    }
   ],
   "source": [
    "#### 4. A list showing first name, last name, and sex for employees whose first name\n",
    "#       is \"Hercules\" and last names begin with \"B.“\n",
    "\n",
    "# using spark sql\n",
    "\n",
    "spark.sql(\"\"\"select first_name, last_name, sex\n",
    "             from anshulalab.employees_cap\n",
    "             where first_name = 'Hercules' and last_name like 'B%'\"\"\").show()"
   ]
  },
  {
   "cell_type": "code",
   "execution_count": 111,
   "metadata": {},
   "outputs": [
    {
     "name": "stdout",
     "output_type": "stream",
     "text": [
      "+----------+-------------+---+\n",
      "|first_name|    last_name|sex|\n",
      "+----------+-------------+---+\n",
      "|  Hercules|         Baer|  M|\n",
      "|  Hercules|        Biron|  F|\n",
      "|  Hercules|        Birge|  F|\n",
      "|  Hercules|      Berstel|  F|\n",
      "|  Hercules|    Bernatsky|  M|\n",
      "|  Hercules|         Bail|  F|\n",
      "|  Hercules|       Bodoff|  M|\n",
      "|  Hercules|     Benantar|  F|\n",
      "|  Hercules|      Basagni|  M|\n",
      "|  Hercules|Bernardinello|  F|\n",
      "|  Hercules|   Baranowski|  M|\n",
      "|  Hercules|      Bisiani|  F|\n",
      "|  Hercules|   Benzmuller|  M|\n",
      "|  Hercules|         Bahr|  M|\n",
      "|  Hercules|        Biran|  F|\n",
      "|  Hercules|         Bain|  F|\n",
      "|  Hercules|      Brendel|  F|\n",
      "|  Hercules|      Buchter|  M|\n",
      "|  Hercules|     Barreiro|  M|\n",
      "|  Hercules|         Baak|  M|\n",
      "+----------+-------------+---+\n",
      "\n"
     ]
    }
   ],
   "source": [
    "# using pyspark dataframe\n",
    "employees_df.where((col('first_name') == 'Hercules') & col('last_name').rlike('^B.*')) \\\n",
    "            .select('first_name', 'last_name', 'sex').show()"
   ]
  },
  {
   "cell_type": "code",
   "execution_count": 63,
   "metadata": {},
   "outputs": [
    {
     "name": "stdout",
     "output_type": "stream",
     "text": [
      "+------+----------+-------------+---------+\n",
      "|emp_no|first_name|    last_name|dept_name|\n",
      "+------+----------+-------------+---------+\n",
      "|246449|     Subbu|   Bultermann|    Sales|\n",
      "|205246|     Nevio|       Demizu|    Sales|\n",
      "|476443|      Ziya|       Asmuth|    Sales|\n",
      "|424270|    Kellyn|    Yoshizawa|    Sales|\n",
      "|280408|   Elliott|         Perl|    Sales|\n",
      "|289261|       Gad|     Nollmann|    Sales|\n",
      "|444985|      Giap|     Verspoor|    Sales|\n",
      "|477628|      Duro|Beutelspacher|    Sales|\n",
      "| 42625|  Harngdar|        Swick|    Sales|\n",
      "| 85093| Nectarios|       Covnot|    Sales|\n",
      "|205366|  Kazuhira|    Shimshoni|    Sales|\n",
      "| 37601|   Gilbert|    Naumovich|    Sales|\n",
      "|437985|    Reuven|        Munke|    Sales|\n",
      "| 28823|     Tonny|     Skafidas|    Sales|\n",
      "|107258|    Parviz|       Zaumen|    Sales|\n",
      "| 11980| Yechezkel|         Pews|    Sales|\n",
      "|457800| Stabislas|      Domenig|    Sales|\n",
      "|414537|   Chikara|     Businaro|    Sales|\n",
      "|414885|   Candido|       Vecchi|    Sales|\n",
      "|217945|    Shmuel|        Georg|    Sales|\n",
      "+------+----------+-------------+---------+\n",
      "only showing top 20 rows\n",
      "\n"
     ]
    }
   ],
   "source": [
    "#### 5. A list showing all employees in the Sales department, including their employee number, last name, first name, and \n",
    "#       department name.\n",
    "\n",
    "# using spark sql\n",
    "\n",
    "spark.sql(\"\"\"select t1.emp_no, t1.first_name, t1.last_name, t3.dept_name\n",
    "             from anshulalab.employees_cap t1\n",
    "             join anshulalab.dept_emp_cap t2 on t1.emp_no = t2.emp_no\n",
    "             join anshulalab.departments_cap t3 on t2.dept_no = t3.dept_no\n",
    "             where t3.dept_name = 'Sales'\"\"\").show()\n"
   ]
  },
  {
   "cell_type": "code",
   "execution_count": 64,
   "metadata": {},
   "outputs": [
    {
     "name": "stdout",
     "output_type": "stream",
     "text": [
      "+------+----------+-------------+---------+\n",
      "|emp_no|first_name|    last_name|dept_name|\n",
      "+------+----------+-------------+---------+\n",
      "|246449|     Subbu|   Bultermann|    Sales|\n",
      "|205246|     Nevio|       Demizu|    Sales|\n",
      "|476443|      Ziya|       Asmuth|    Sales|\n",
      "|424270|    Kellyn|    Yoshizawa|    Sales|\n",
      "|280408|   Elliott|         Perl|    Sales|\n",
      "|289261|       Gad|     Nollmann|    Sales|\n",
      "|444985|      Giap|     Verspoor|    Sales|\n",
      "|477628|      Duro|Beutelspacher|    Sales|\n",
      "| 42625|  Harngdar|        Swick|    Sales|\n",
      "| 85093| Nectarios|       Covnot|    Sales|\n",
      "|205366|  Kazuhira|    Shimshoni|    Sales|\n",
      "| 37601|   Gilbert|    Naumovich|    Sales|\n",
      "|437985|    Reuven|        Munke|    Sales|\n",
      "| 28823|     Tonny|     Skafidas|    Sales|\n",
      "|107258|    Parviz|       Zaumen|    Sales|\n",
      "| 11980| Yechezkel|         Pews|    Sales|\n",
      "|457800| Stabislas|      Domenig|    Sales|\n",
      "|414537|   Chikara|     Businaro|    Sales|\n",
      "|414885|   Candido|       Vecchi|    Sales|\n",
      "|217945|    Shmuel|        Georg|    Sales|\n",
      "+------+----------+-------------+---------+\n",
      "only showing top 20 rows\n",
      "\n"
     ]
    }
   ],
   "source": [
    "# using spark dataframe\n",
    "\n",
    "employees_df.join(dept_emp_df, 'emp_no') \\\n",
    "            .join(departments_df, 'dept_no') \\\n",
    "            .where(col('dept_name')=='Sales') \\\n",
    "            .select('emp_no', 'first_name', 'last_name', 'dept_name').show()"
   ]
  },
  {
   "cell_type": "code",
   "execution_count": 65,
   "metadata": {},
   "outputs": [
    {
     "name": "stdout",
     "output_type": "stream",
     "text": [
      "+------+----------+----------+-----------+\n",
      "|emp_no|first_name| last_name|  dept_name|\n",
      "+------+----------+----------+-----------+\n",
      "|208153|   Abdulah|      Lunn|development|\n",
      "| 13616|     Perry|     Lorho|development|\n",
      "|246449|     Subbu|Bultermann|      Sales|\n",
      "| 21529|     Bojan|  Zallocco|development|\n",
      "| 17934|  Bilhanan|  Wuwongse|development|\n",
      "|205246|     Nevio|    Demizu|      Sales|\n",
      "|476443|      Ziya|    Asmuth|      Sales|\n",
      "|424270|    Kellyn| Yoshizawa|      Sales|\n",
      "| 71530|Venkatesan|  McAlpine|development|\n",
      "|280408|   Elliott|      Perl|      Sales|\n",
      "|104639|    Theron|   Escriba|development|\n",
      "|214555|   Nechama|     Copas|development|\n",
      "| 35916|    Wonhee|    Talmon|development|\n",
      "| 61583|      Ziva|    Vecchi|development|\n",
      "|422587|     Mohit|     Speek|development|\n",
      "| 48885|     Phuoc| Antonisse|development|\n",
      "|244492|   Shaunak|    Pettit|development|\n",
      "|289261|       Gad|  Nollmann|      Sales|\n",
      "| 26941|    Shigeu|  Masamoto|development|\n",
      "|444985|      Giap|  Verspoor|      Sales|\n",
      "+------+----------+----------+-----------+\n",
      "only showing top 20 rows\n",
      "\n"
     ]
    }
   ],
   "source": [
    "#### 6. A list showing all employees in the Sales and Development departments, including their employee number, last name, \n",
    "#       first name, and department name.\n",
    "\n",
    "\n",
    "# using spark sql\n",
    "\n",
    "spark.sql(\"\"\"select t1.emp_no, t1.first_name, t1.last_name, t3.dept_name\n",
    "             from anshulalab.employees_cap t1\n",
    "             join anshulalab.dept_emp_cap t2 on t1.emp_no = t2.emp_no\n",
    "             join anshulalab.departments_cap t3 on t2.dept_no = t3.dept_no\n",
    "             where t3.dept_name in ('Sales', 'development')\"\"\").show()"
   ]
  },
  {
   "cell_type": "code",
   "execution_count": 112,
   "metadata": {},
   "outputs": [
    {
     "name": "stdout",
     "output_type": "stream",
     "text": [
      "+------+----------+----------+-----------+\n",
      "|emp_no|first_name| last_name|  dept_name|\n",
      "+------+----------+----------+-----------+\n",
      "|208153|   Abdulah|      Lunn|development|\n",
      "| 13616|     Perry|     Lorho|development|\n",
      "|246449|     Subbu|Bultermann|      Sales|\n",
      "| 21529|     Bojan|  Zallocco|development|\n",
      "| 17934|  Bilhanan|  Wuwongse|development|\n",
      "|205246|     Nevio|    Demizu|      Sales|\n",
      "|476443|      Ziya|    Asmuth|      Sales|\n",
      "|424270|    Kellyn| Yoshizawa|      Sales|\n",
      "| 71530|Venkatesan|  McAlpine|development|\n",
      "|280408|   Elliott|      Perl|      Sales|\n",
      "|104639|    Theron|   Escriba|development|\n",
      "|214555|   Nechama|     Copas|development|\n",
      "| 35916|    Wonhee|    Talmon|development|\n",
      "| 61583|      Ziva|    Vecchi|development|\n",
      "|422587|     Mohit|     Speek|development|\n",
      "| 48885|     Phuoc| Antonisse|development|\n",
      "|244492|   Shaunak|    Pettit|development|\n",
      "|289261|       Gad|  Nollmann|      Sales|\n",
      "| 26941|    Shigeu|  Masamoto|development|\n",
      "|444985|      Giap|  Verspoor|      Sales|\n",
      "+------+----------+----------+-----------+\n",
      "only showing top 20 rows\n",
      "\n"
     ]
    }
   ],
   "source": [
    "# using spark dataframe\n",
    "\n",
    "employees_df.join(dept_emp_df, 'emp_no') \\\n",
    "            .join(departments_df, 'dept_no') \\\n",
    "            .where((col('dept_name')=='Sales') | (col('dept_name')=='development' )) \\\n",
    "            .select('emp_no', 'first_name', 'last_name', 'dept_name').show()"
   ]
  },
  {
   "cell_type": "code",
   "execution_count": 71,
   "metadata": {},
   "outputs": [
    {
     "name": "stdout",
     "output_type": "stream",
     "text": [
      "+-----------+-----+\n",
      "|  last_name|count|\n",
      "+-----------+-----+\n",
      "|       Baba|  226|\n",
      "|      Coorg|  223|\n",
      "|     Gelosh|  223|\n",
      "|    Sudbeck|  222|\n",
      "|     Farris|  222|\n",
      "|     Adachi|  221|\n",
      "|     Osgood|  220|\n",
      "|    Mandell|  218|\n",
      "|     Neiman|  218|\n",
      "|     Masada|  218|\n",
      "|    Wendorf|  217|\n",
      "|Boudaillier|  217|\n",
      "|    Solares|  216|\n",
      "|     Mahnke|  216|\n",
      "|   Cummings|  216|\n",
      "|     Pettis|  216|\n",
      "|   Collette|  215|\n",
      "|   Birjandi|  215|\n",
      "|     Emmart|  215|\n",
      "|    Kulisch|  215|\n",
      "+-----------+-----+\n",
      "only showing top 20 rows\n",
      "\n"
     ]
    }
   ],
   "source": [
    "#### 7. A list showing the frequency count of employee last names, in descending order. ( i.e., how many employees share each \n",
    "#       last name\n",
    "\n",
    "employees_df.groupBy('last_name').count().orderBy('count', ascending=False).show()"
   ]
  },
  {
   "cell_type": "code",
   "execution_count": 72,
   "metadata": {},
   "outputs": [],
   "source": [
    "#### 8. Histogram to show the salary distribution among the employees\n",
    "\n",
    "salaries_df_pd = salaries_df.toPandas()"
   ]
  },
  {
   "cell_type": "code",
   "execution_count": 78,
   "metadata": {},
   "outputs": [
    {
     "data": {
      "text/plain": [
       "Text(0.5, 1.0, 'Salary Distribution')"
      ]
     },
     "execution_count": 78,
     "metadata": {},
     "output_type": "execute_result"
    },
    {
     "data": {
      "image/png": "[encoded data removed]",
      "text/plain": [
       "<Figure size 432x288 with 1 Axes>"
      ]
     },
     "metadata": {
      "needs_background": "light"
     },
     "output_type": "display_data"
    }
   ],
   "source": [
    "salaries_df_pd['salary'].hist()\n",
    "plt.xlabel('salary')\n",
    "plt.ylabel('count_of_employees')\n",
    "plt.title('Salary Distribution')"
   ]
  },
  {
   "cell_type": "code",
   "execution_count": 87,
   "metadata": {},
   "outputs": [
    {
     "data": {
      "text/plain": [
       "DataFrame[title_id: string, avg(salary): double]"
      ]
     },
     "execution_count": 87,
     "metadata": {},
     "output_type": "execute_result"
    }
   ],
   "source": [
    "#### 9. Bar graph to show the average salary per title\n",
    "\n",
    "## create a spark dataframe that shows the average salary of each title\n",
    "\n",
    "title_avg_salary_df = employees_df.join(titles_df, employees_df.emp_title_id == titles_df.title_id) \\\n",
    "                                 .join(salaries_df, 'emp_no').groupBy('title_id').avg('salary')\n",
    "\n",
    "title_avg_salary_df.persist()"
   ]
  },
  {
   "cell_type": "code",
   "execution_count": 113,
   "metadata": {},
   "outputs": [],
   "source": [
    "# save that dataframe into a pandas dataframe for plotting\n",
    "\n",
    "title_avg_salary_df_pd = title_avg_salary_df.withColumn('avg(salary)', round(col('avg(salary)'), 2)) \\\n",
    "                                                .orderBy('avg(salary)', ascending=False).toPandas()"
   ]
  },
  {
   "cell_type": "code",
   "execution_count": 114,
   "metadata": {},
   "outputs": [
    {
     "data": {
      "text/plain": [
       "Text(0.5, 1.0, 'Average Salary by title')"
      ]
     },
     "execution_count": 114,
     "metadata": {},
     "output_type": "execute_result"
    },
    {
     "data": {
      "image/png": "[encoded data removed]",
      "text/plain": [
       "<Figure size 432x288 with 1 Axes>"
      ]
     },
     "metadata": {
      "needs_background": "light"
     },
     "output_type": "display_data"
    }
   ],
   "source": [
    "title_avg_salary_df_pd.plot.bar(x='title_id', y='avg(salary)')\n",
    "plt.ylabel('avg_salary')\n",
    "plt.title('Average Salary by title')"
   ]
  },
  {
   "cell_type": "code",
   "execution_count": 120,
   "metadata": {},
   "outputs": [],
   "source": [
    "#### 10. Calculate employee tenure & show the tenure distribution among the employees\n",
    "\n",
    "# create a pandas dataframe that has just the emp_no and their tenure\n",
    "# where tenure is calculated as the year of last_date minus year of hire_date if the employee has left\n",
    "# otherwise it is 2013 (which is the year of max date in data) minus the year of hire_date\n",
    "\n",
    "emp_tenure_df_pd = employees_df.withColumn('tenure', when(col('left_company') == 1, (year('last_date')-year('hire_date'))) \\\n",
    "                       .otherwise((2013 - year('hire_date')))).select('emp_no', 'tenure').toPandas()"
   ]
  },
  {
   "cell_type": "code",
   "execution_count": 122,
   "metadata": {},
   "outputs": [
    {
     "data": {
      "text/plain": [
       "<matplotlib.axes._subplots.AxesSubplot at 0x7fa80ec4f450>"
      ]
     },
     "execution_count": 122,
     "metadata": {},
     "output_type": "execute_result"
    },
    {
     "data": {
      "image/png": "[encoded data removed]",
      "text/plain": [
       "<Figure size 432x288 with 1 Axes>"
      ]
     },
     "metadata": {
      "needs_background": "light"
     },
     "output_type": "display_data"
    }
   ],
   "source": [
    "emp_tenure_df_pd['tenure'].hist()"
   ]
  },
  {
   "cell_type": "code",
   "execution_count": 125,
   "metadata": {},
   "outputs": [
    {
     "name": "stdout",
     "output_type": "stream",
     "text": [
      "+---+------+------------------+\n",
      "|sex| count|        avg_salary|\n",
      "+---+------+------------------+\n",
      "|  F|120051|  52953.8364278515|\n",
      "|  M|179973|52982.002944886175|\n",
      "+---+------+------------------+\n",
      "\n"
     ]
    }
   ],
   "source": [
    "#### 11. count and average salary of male and female employees in the company\n",
    "\n",
    "employees_df.join(salaries_df, 'emp_no').groupBy('sex').agg(count('emp_no').alias('count'), avg('salary').alias('avg_salary')).show()"
   ]
  },
  {
   "cell_type": "code",
   "execution_count": 133,
   "metadata": {},
   "outputs": [],
   "source": [
    "#### 12. Iteration and total employees by department\n",
    "from pyspark.sql.types import IntegerType\n",
    "\n",
    "# create an intermediate spark dataframe that shows the number of employees and employees left\n",
    "# by each department\n",
    "\n",
    "dept_count_emp_df = employees_df.join(dept_emp_df, 'emp_no').join(departments_df, 'dept_no').groupBy('dept_name') \\\n",
    "                    .agg(count('emp_no').alias('count_of_employees'), \\\n",
    "                         sum(col('left_company').cast(IntegerType())).alias('Employees_left'))"
   ]
  },
  {
   "cell_type": "code",
   "execution_count": 135,
   "metadata": {
    "scrolled": true
   },
   "outputs": [
    {
     "name": "stdout",
     "output_type": "stream",
     "text": [
      "+------------------+------------------+--------------+-------------+\n",
      "|         dept_name|count_of_employees|Employees_left|pct_iteration|\n",
      "+------------------+------------------+--------------+-------------+\n",
      "|             Sales|             52245|          5209|         9.97|\n",
      "|Quality Management|             20117|          2018|        10.03|\n",
      "|           Finance|             17346|          1647|         9.49|\n",
      "|        Production|             73485|          7389|        10.06|\n",
      "|          Research|             21126|          2098|         9.93|\n",
      "|  Customer Service|             23580|          2414|        10.24|\n",
      "|         Marketing|             20211|          1941|          9.6|\n",
      "|       development|             85707|          8508|         9.93|\n",
      "|   Human Resources|             17786|          1797|         10.1|\n",
      "+------------------+------------------+--------------+-------------+\n",
      "\n"
     ]
    }
   ],
   "source": [
    "# now calculate the percentage iteration by each department\n",
    "\n",
    "dept_count_emp_df.withColumn('pct_iteration', round(col('Employees_left')*100/col('count_of_employees'),2)).show()"
   ]
  },
  {
   "cell_type": "code",
   "execution_count": 139,
   "metadata": {},
   "outputs": [
    {
     "name": "stdout",
     "output_type": "stream",
     "text": [
      "+------------------+----------+\n",
      "|         dept_name|avg_salary|\n",
      "+------------------+----------+\n",
      "|             Sales|  69832.13|\n",
      "|         Marketing|   61095.9|\n",
      "|           Finance|  59533.52|\n",
      "|          Research|  48850.19|\n",
      "|        Production|  48760.45|\n",
      "|       development|  48697.33|\n",
      "|  Customer Service|  47998.67|\n",
      "|Quality Management|  46456.01|\n",
      "|   Human Resources|  44678.65|\n",
      "+------------------+----------+\n",
      "\n"
     ]
    }
   ],
   "source": [
    "#### 13. Average salary by each department\n",
    "\n",
    "salaries_df.join(dept_emp_df, 'emp_no').join(departments_df, 'dept_no') \\\n",
    "            .groupBy('dept_name').agg(round(avg('salary'),2).alias('avg_salary')).orderBy('avg_salary', ascending=False).show()"
   ]
  },
  {
   "cell_type": "code",
   "execution_count": 144,
   "metadata": {},
   "outputs": [],
   "source": [
    "#### 14. Distribution of age of employees\n",
    "\n",
    "# create a pandas data frame that has the age and emp_no of all employees\n",
    "\n",
    "employees_w_age_pd = employees_df.withColumn('employee_age', 2013-year('birth_date')) \\\n",
    "                                    .select('emp_no', 'employee_age').toPandas()"
   ]
  },
  {
   "cell_type": "code",
   "execution_count": 146,
   "metadata": {},
   "outputs": [
    {
     "data": {
      "text/plain": [
       "<matplotlib.axes._subplots.AxesSubplot at 0x7fa8100eef10>"
      ]
     },
     "execution_count": 146,
     "metadata": {},
     "output_type": "execute_result"
    },
    {
     "data": {
      "image/png": "[encoded data removed]",
      "text/plain": [
       "<Figure size 432x288 with 1 Axes>"
      ]
     },
     "metadata": {
      "needs_background": "light"
     },
     "output_type": "display_data"
    }
   ],
   "source": [
    "employees_w_age_pd['employee_age'].hist()"
   ]
  },
  {
   "cell_type": "code",
   "execution_count": 148,
   "metadata": {
    "scrolled": true
   },
   "outputs": [
    {
     "name": "stdout",
     "output_type": "stream",
     "text": [
      "+---+---------------------------+\n",
      "|sex|round(avg(employee_age), 2)|\n",
      "+---+---------------------------+\n",
      "|  F|                      54.92|\n",
      "|  M|                      54.91|\n",
      "+---+---------------------------+\n",
      "\n"
     ]
    }
   ],
   "source": [
    "#### 15. Average age by sex\n",
    "\n",
    "employees_df.withColumn('employee_age', 2013-year('birth_date')) \\\n",
    "                                    .groupBy('sex').agg(round(avg('employee_age'),2)).show()"
   ]
  },
  {
   "cell_type": "markdown",
   "metadata": {},
   "source": [
    "#### Building an ML model on the data"
   ]
  },
  {
   "cell_type": "code",
   "execution_count": null,
   "metadata": {},
   "outputs": [],
   "source": [
    "## The first step is feature engineering"
   ]
  },
  {
   "cell_type": "code",
   "execution_count": 151,
   "metadata": {
    "scrolled": true
   },
   "outputs": [
    {
     "name": "stdout",
     "output_type": "stream",
     "text": [
      "['emp_no', 'emp_title_id', 'birth_date', 'first_name', 'last_name', 'sex', 'hire_date', 'no_of_projects', 'last_performance_rating', 'left_company', 'last_date']\n"
     ]
    }
   ],
   "source": [
    "print(employees_df.columns)"
   ]
  },
  {
   "cell_type": "code",
   "execution_count": 152,
   "metadata": {},
   "outputs": [
    {
     "name": "stdout",
     "output_type": "stream",
     "text": [
      "['emp_no', 'salary']\n"
     ]
    }
   ],
   "source": [
    "print(salaries_df.columns)"
   ]
  },
  {
   "cell_type": "code",
   "execution_count": 153,
   "metadata": {},
   "outputs": [
    {
     "name": "stdout",
     "output_type": "stream",
     "text": [
      "['title_id', 'title']\n"
     ]
    }
   ],
   "source": [
    "print(titles_df.columns)"
   ]
  },
  {
   "cell_type": "code",
   "execution_count": 156,
   "metadata": {},
   "outputs": [
    {
     "name": "stdout",
     "output_type": "stream",
     "text": [
      "['emp_no', 'dept_no']\n"
     ]
    }
   ],
   "source": [
    "print(dept_emp_df.columns)"
   ]
  },
  {
   "cell_type": "code",
   "execution_count": 161,
   "metadata": {},
   "outputs": [
    {
     "name": "stdout",
     "output_type": "stream",
     "text": [
      "['dept_no', 'emp_no']\n"
     ]
    }
   ],
   "source": [
    "print(dept_manager_df.columns)"
   ]
  },
  {
   "cell_type": "code",
   "execution_count": 170,
   "metadata": {},
   "outputs": [
    {
     "data": {
      "text/plain": [
       "331603"
      ]
     },
     "execution_count": 170,
     "metadata": {},
     "output_type": "execute_result"
    }
   ],
   "source": [
    "# One thing to note is that in the dept_emp dataset the same employee has been mapped\n",
    "# to multiple departments on a few occasions\n",
    "\n",
    "dept_emp_df.count()"
   ]
  },
  {
   "cell_type": "code",
   "execution_count": 171,
   "metadata": {},
   "outputs": [
    {
     "data": {
      "text/plain": [
       "300024"
      ]
     },
     "execution_count": 171,
     "metadata": {},
     "output_type": "execute_result"
    }
   ],
   "source": [
    "dept_emp_df.select('emp_no').distinct().count()"
   ]
  },
  {
   "cell_type": "code",
   "execution_count": 172,
   "metadata": {},
   "outputs": [],
   "source": [
    "# drop these duplicate rows\n",
    "dept_emp_df_clean = dept_emp_df.dropDuplicates(['emp_no'])"
   ]
  },
  {
   "cell_type": "code",
   "execution_count": 162,
   "metadata": {},
   "outputs": [],
   "source": [
    "# Here some of the columns have different values but mean the same thing\n",
    "# for example, title_id and title and perfectly correlated. So only one of them should be selected in the final data\n",
    "# similar case is with dept_no and dept_name\n",
    "\n",
    "# Also in the data provided, there is only one set of managers per department\n",
    "# therefore, the manager column can be ignored completely as the dept_no column has all the information\n",
    "# provided by the manager column as well"
   ]
  },
  {
   "cell_type": "code",
   "execution_count": 173,
   "metadata": {},
   "outputs": [],
   "source": [
    "# join the tables to get all the required features\n",
    "\n",
    "employees_df_joined = employees_df.join(salaries_df, 'emp_no').join(dept_emp_df_clean, 'emp_no')"
   ]
  },
  {
   "cell_type": "code",
   "execution_count": 174,
   "metadata": {},
   "outputs": [
    {
     "data": {
      "text/plain": [
       "300024"
      ]
     },
     "execution_count": 174,
     "metadata": {},
     "output_type": "execute_result"
    }
   ],
   "source": [
    "employees_df_joined.count()"
   ]
  },
  {
   "cell_type": "markdown",
   "metadata": {},
   "source": [
    "#### Feature creation"
   ]
  },
  {
   "cell_type": "code",
   "execution_count": 177,
   "metadata": {},
   "outputs": [],
   "source": [
    "### features to be created\n",
    "# 1. Age (2013 - birth_date)\n",
    "# 2. Tenure (2013 - hire_date) if employee is working\n",
    "#            (last_date - hire_date) if employee has left"
   ]
  },
  {
   "cell_type": "code",
   "execution_count": 178,
   "metadata": {},
   "outputs": [],
   "source": [
    "## Age\n",
    "\n",
    "employees_df_joined = employees_df_joined.withColumn('employee_age', 2013-year('birth_date'))"
   ]
  },
  {
   "cell_type": "code",
   "execution_count": 180,
   "metadata": {},
   "outputs": [],
   "source": [
    "## Tenure\n",
    "\n",
    "employees_df_joined = employees_df_joined.withColumn('tenure', when(col('left_company') == 1,\\\n",
    "                                                                    (year('last_date')-year('hire_date'))) \\\n",
    "                                                                     .otherwise((2013 - year('hire_date'))))\n"
   ]
  },
  {
   "cell_type": "code",
   "execution_count": 181,
   "metadata": {},
   "outputs": [
    {
     "name": "stdout",
     "output_type": "stream",
     "text": [
      "root\n",
      " |-- emp_no: integer (nullable = true)\n",
      " |-- emp_title_id: string (nullable = true)\n",
      " |-- birth_date: string (nullable = true)\n",
      " |-- first_name: string (nullable = true)\n",
      " |-- last_name: string (nullable = true)\n",
      " |-- sex: string (nullable = true)\n",
      " |-- hire_date: string (nullable = true)\n",
      " |-- no_of_projects: integer (nullable = true)\n",
      " |-- last_performance_rating: string (nullable = true)\n",
      " |-- left_company: boolean (nullable = true)\n",
      " |-- last_date: string (nullable = true)\n",
      " |-- salary: integer (nullable = true)\n",
      " |-- dept_no: string (nullable = true)\n",
      " |-- employee_age: integer (nullable = true)\n",
      " |-- tenure: integer (nullable = true)\n",
      "\n"
     ]
    }
   ],
   "source": [
    "# Finally the columns that will be selected as features are as follows:\n",
    "\n",
    "employees_df_joined.printSchema()"
   ]
  },
  {
   "cell_type": "code",
   "execution_count": 184,
   "metadata": {},
   "outputs": [],
   "source": [
    "continuous_features = ['no_of_projects', 'salary', 'employee_age', 'tenure']\n",
    "\n",
    "categorical_features = ['emp_title_id', 'sex', 'dept_no', 'last_performance_rating']"
   ]
  },
  {
   "cell_type": "code",
   "execution_count": 198,
   "metadata": {},
   "outputs": [],
   "source": [
    "final_employees_df = employees_df_joined.select(*[continuous_features + categorical_features + ['left_company']])\\\n",
    "                            .withColumnRenamed('left_company', 'label')"
   ]
  },
  {
   "cell_type": "code",
   "execution_count": 240,
   "metadata": {},
   "outputs": [],
   "source": [
    "#create a copy just in case\n",
    "final_employees_df1 = final_employees_df"
   ]
  },
  {
   "cell_type": "code",
   "execution_count": 212,
   "metadata": {},
   "outputs": [
    {
     "name": "stdout",
     "output_type": "stream",
     "text": [
      "+--------------+------+------------+------+------------+---+-------+-----------------------+-----+\n",
      "|no_of_projects|salary|employee_age|tenure|emp_title_id|sex|dept_no|last_performance_rating|label|\n",
      "+--------------+------+------------+------+------------+---+-------+-----------------------+-----+\n",
      "|             2| 40000|          60|    23|       s0001|  M|   d002|                      A|false|\n",
      "|             1| 53422|          59|    22|       e0002|  F|   d004|                      C|false|\n",
      "|             9| 48973|          55|    21|       e0002|  F|   d004|                      A|false|\n",
      "|             2| 40000|          56|    26|       s0001|  M|   d003|                      C|false|\n",
      "|             6| 40000|          61|    22|       e0003|  F|   d006|                      B|false|\n",
      "|             8| 40000|          54|     7|       e0003|  M|   d006|                      B| true|\n",
      "|            10| 56087|          56|    22|       s0001|  M|   d003|                      A|false|\n",
      "|             2| 40000|          49|     9|       s0002|  M|   d002|                      A| true|\n",
      "|             5| 54816|          51|    20|       e0002|  M|   d006|                      A|false|\n",
      "|             6| 40000|          57|    20|       s0002|  F|   d009|                      B|false|\n",
      "|             1| 40000|          52|    18|       e0002|  F|   d004|                    PIP|false|\n",
      "|             8| 50183|          52|    11|       e0003|  M|   d005|                      C| true|\n",
      "|             7| 40000|          52|    22|       e0003|  F|   d005|                      C|false|\n",
      "|             9| 87084|          55|    25|       s0001|  F|   d007|                      C|false|\n",
      "|             7| 40000|          54|    27|       e0002|  M|   d005|                      C|false|\n",
      "|             7| 48795|          50|    20|       e0004|  M|   d005|                      C|false|\n",
      "|             9| 63016|          49|    20|       s0001|  M|   d002|                      B|false|\n",
      "|             3| 57715|          56|    20|       e0002|  M|   d004|                      A|false|\n",
      "|            10| 43548|          61|    28|       e0004|  M|   d006|                      C|false|\n",
      "|             8| 80252|          55|    27|       s0002|  F|   d007|                      B|false|\n",
      "+--------------+------+------------+------+------------+---+-------+-----------------------+-----+\n",
      "only showing top 20 rows\n",
      "\n"
     ]
    }
   ],
   "source": [
    "final_employees_df1.show()"
   ]
  },
  {
   "cell_type": "code",
   "execution_count": 197,
   "metadata": {},
   "outputs": [],
   "source": [
    "from pyspark.ml.feature import OneHotEncoder, StringIndexer, VectorAssembler\n",
    "from pyspark.ml.classification import RandomForestClassifier\n",
    "from pyspark.ml import Pipeline\n",
    "from pyspark.ml.evaluation import MulticlassClassificationEvaluator, BinaryClassificationEvaluator"
   ]
  },
  {
   "cell_type": "code",
   "execution_count": 194,
   "metadata": {},
   "outputs": [
    {
     "data": {
      "text/plain": [
       "['emp_title_id', 'sex', 'dept_no', 'last_performance_rating']"
      ]
     },
     "execution_count": 194,
     "metadata": {},
     "output_type": "execute_result"
    }
   ],
   "source": [
    "categorical_features"
   ]
  },
  {
   "cell_type": "code",
   "execution_count": null,
   "metadata": {},
   "outputs": [],
   "source": [
    "[SI_emp_title_id, SI_sex, SI_dept_no, \n",
    " SI_last_performance, OHE_emp_title_id, OHE_sex, OHE_dept_no,\n",
    " OHE_last_performance, assembler, rf]"
   ]
  },
  {
   "cell_type": "code",
   "execution_count": 230,
   "metadata": {},
   "outputs": [],
   "source": [
    "# create string indexers for all columns\n",
    "\n",
    "SI_emp_title_id = StringIndexer(inputCol='emp_title_id', outputCol='emp_title_id_idx')\n",
    "SI_sex = StringIndexer(inputCol='sex', outputCol='sex_idx')\n",
    "SI_dept_no = StringIndexer(inputCol='dept_no', outputCol='dept_no_idx')\n",
    "SI_last_performance = StringIndexer(inputCol='last_performance_rating', outputCol='last_performance_rating_idx')"
   ]
  },
  {
   "cell_type": "code",
   "execution_count": 241,
   "metadata": {},
   "outputs": [],
   "source": [
    "# fit and transform the datasets using the string indexers\n",
    "\n",
    "final_employees_df1 = SI_emp_title_id.fit(final_employees_df1).transform(final_employees_df1)\n",
    "final_employees_df1 = SI_sex.fit(final_employees_df1).transform(final_employees_df1)"
   ]
  },
  {
   "cell_type": "code",
   "execution_count": 244,
   "metadata": {},
   "outputs": [],
   "source": [
    "final_employees_df1 = SI_dept_no.fit(final_employees_df1).transform(final_employees_df1)"
   ]
  },
  {
   "cell_type": "code",
   "execution_count": 246,
   "metadata": {},
   "outputs": [],
   "source": [
    "final_employees_df1 = SI_last_performance.fit(final_employees_df1).transform(final_employees_df1)"
   ]
  },
  {
   "cell_type": "code",
   "execution_count": 249,
   "metadata": {},
   "outputs": [],
   "source": [
    "# create the one hot encoders\n",
    "\n",
    "OHE_emp_title_id = OneHotEncoder(inputCol='emp_title_id_idx', outputCol='emp_title_id_vec')\n",
    "OHE_sex = OneHotEncoder(inputCol='sex_idx', outputCol='sex_vec')\n",
    "OHE_dept_no = OneHotEncoder(inputCol='dept_no_idx', outputCol='dept_no_vec')\n",
    "OHE_last_performance = OneHotEncoder(inputCol='last_performance_rating_idx', outputCol='last_performance_rating_vec')"
   ]
  },
  {
   "cell_type": "code",
   "execution_count": 254,
   "metadata": {},
   "outputs": [],
   "source": [
    "# transform dataset using OHEs\n",
    "\n",
    "final_employees_df1 = OHE_emp_title_id.transform(final_employees_df1)\n",
    "final_employees_df1 = OHE_sex.transform(final_employees_df1)\n",
    "final_employees_df1 = OHE_dept_no.transform(final_employees_df1)\n",
    "final_employees_df1 = OHE_last_performance.transform(final_employees_df1)"
   ]
  },
  {
   "cell_type": "code",
   "execution_count": 259,
   "metadata": {},
   "outputs": [],
   "source": [
    "feature_cols = ['emp_title_id_vec', 'sex_vec', 'dept_no_vec', 'last_performance_rating_vec'] + continuous_features"
   ]
  },
  {
   "cell_type": "code",
   "execution_count": 260,
   "metadata": {},
   "outputs": [],
   "source": [
    "# create the vector assembler\n",
    "\n",
    "assembler = VectorAssembler(inputCols=feature_cols, outputCol = 'features')"
   ]
  },
  {
   "cell_type": "code",
   "execution_count": 262,
   "metadata": {},
   "outputs": [],
   "source": [
    "employees_training_df = assembler.transform(final_employees_df1).select('features', 'label')"
   ]
  },
  {
   "cell_type": "code",
   "execution_count": 266,
   "metadata": {},
   "outputs": [],
   "source": [
    "employees_training_df = employees_training_df.withColumn('label', employees_training_df.label.cast(IntegerType()))"
   ]
  },
  {
   "cell_type": "code",
   "execution_count": 267,
   "metadata": {},
   "outputs": [
    {
     "name": "stdout",
     "output_type": "stream",
     "text": [
      "+--------------------+-----+\n",
      "|            features|label|\n",
      "+--------------------+-----+\n",
      "|(23,[0,6,11,16,19...|    0|\n",
      "|(23,[2,8,17,19,20...|    0|\n",
      "|(23,[2,8,16,19,20...|    0|\n",
      "|(23,[0,6,12,17,19...|    0|\n",
      "|(23,[1,15,19,20,2...|    0|\n",
      "|(23,[1,6,15,19,20...|    1|\n",
      "|(23,[0,6,12,16,19...|    0|\n",
      "|(23,[3,6,11,16,19...|    1|\n",
      "|(23,[2,6,16,19,20...|    0|\n",
      "|(23,[3,13,15,19,2...|    0|\n",
      "|(23,[2,8,18,19,20...|    0|\n",
      "|(23,[1,6,7,17,19,...|    1|\n",
      "|(23,[1,7,17,19,20...|    0|\n",
      "|(23,[0,9,17,19,20...|    0|\n",
      "|(23,[2,6,7,17,19,...|    0|\n",
      "|(23,[4,6,7,17,19,...|    0|\n",
      "|(23,[0,6,11,15,19...|    0|\n",
      "|(23,[2,6,8,16,19,...|    0|\n",
      "|(23,[4,6,17,19,20...|    0|\n",
      "|(23,[3,9,15,19,20...|    0|\n",
      "+--------------------+-----+\n",
      "only showing top 20 rows\n",
      "\n"
     ]
    }
   ],
   "source": [
    "employees_training_df.show()"
   ]
  },
  {
   "cell_type": "code",
   "execution_count": 268,
   "metadata": {},
   "outputs": [],
   "source": [
    "# create the Random forest classifier object\n",
    "\n",
    "rf = RandomForestClassifier(labelCol = 'label', featuresCol = 'features')"
   ]
  },
  {
   "cell_type": "code",
   "execution_count": 269,
   "metadata": {},
   "outputs": [],
   "source": [
    "# split the dataset into training and testing datasets\n",
    "\n",
    "train_df, test_df = employees_training_df.randomSplit([0.7, 0.3], seed=42)"
   ]
  },
  {
   "cell_type": "code",
   "execution_count": 270,
   "metadata": {},
   "outputs": [],
   "source": [
    "# fit the dataset and build the model\n",
    "\n",
    "model = rf.fit(train_df)"
   ]
  },
  {
   "cell_type": "code",
   "execution_count": 271,
   "metadata": {},
   "outputs": [],
   "source": [
    "# predict using the transform function\n",
    "\n",
    "pred = model.transform(test_df)"
   ]
  },
  {
   "cell_type": "code",
   "execution_count": 273,
   "metadata": {},
   "outputs": [],
   "source": [
    "# function to evaluate the model\n",
    "\n",
    "def evaluate_model(pred):\n",
    "    \n",
    "    eval_accuracy = (MulticlassClassificationEvaluator\n",
    "        (labelCol=\"label\", predictionCol=\"prediction\", metricName=\"accuracy\"))\n",
    "  \n",
    "    eval_precision = (MulticlassClassificationEvaluator\n",
    "        (labelCol=\"label\", predictionCol=\"prediction\", metricName=\"weightedPrecision\"))\n",
    "  \n",
    "    eval_recall = (MulticlassClassificationEvaluator\n",
    "        (labelCol=\"label\", predictionCol=\"prediction\", metricName=\"weightedRecall\"))\n",
    "  \n",
    "    eval_f1 = (MulticlassClassificationEvaluator\n",
    "        (labelCol=\"label\", predictionCol=\"prediction\", metricName=\"f1\"))\n",
    "\n",
    "    accuracy = eval_accuracy.evaluate(pred)\n",
    "\n",
    "    precision =  eval_precision.evaluate(pred)\n",
    "\n",
    "    recall =  eval_recall.evaluate(pred)\n",
    "\n",
    "    f1 =  eval_f1.evaluate(pred)\n",
    "\n",
    "    print(f\"\"\"\n",
    "    Accuracy  = {accuracy}\n",
    "    Error     = {1-accuracy}\n",
    "    Precision = {precision}\n",
    "    Recall    = {recall}\n",
    "    F1        = {f1}\"\"\")"
   ]
  },
  {
   "cell_type": "code",
   "execution_count": 279,
   "metadata": {},
   "outputs": [
    {
     "name": "stdout",
     "output_type": "stream",
     "text": [
      "\n",
      "    Accuracy  = 0.9980220590700325\n",
      "    Error     = 0.0019779409299675033\n",
      "    Precision = 0.9980252207788173\n",
      "    Recall    = 0.9980220590700325\n",
      "    F1        = 0.9980134773543299\n"
     ]
    }
   ],
   "source": [
    "# evaluate the model\n",
    "\n",
    "evaluate_model(pred)"
   ]
  },
  {
   "cell_type": "code",
   "execution_count": 276,
   "metadata": {},
   "outputs": [],
   "source": [
    "# make predictions on the training df\n",
    "\n",
    "pred_train = model.transform(train_df)"
   ]
  },
  {
   "cell_type": "code",
   "execution_count": 277,
   "metadata": {},
   "outputs": [
    {
     "name": "stdout",
     "output_type": "stream",
     "text": [
      "\n",
      "    Accuracy  = 0.9981475940096041\n",
      "    Error     = 0.0018524059903959333\n",
      "    Precision = 0.998150482995197\n",
      "    Recall    = 0.998147594009604\n",
      "    F1        = 0.9981402222600019\n"
     ]
    }
   ],
   "source": [
    "# training df evaluation\n",
    "\n",
    "evaluate_model(pred_train)"
   ]
  },
  {
   "cell_type": "markdown",
   "metadata": {},
   "source": [
    "#### Building the ML pipeline"
   ]
  },
  {
   "cell_type": "code",
   "execution_count": 282,
   "metadata": {},
   "outputs": [],
   "source": [
    "# combining all the string indexer, one hot encoder and assembler stages\n",
    "# in the pipeline along with the Random Forest Classifier\n",
    "\n",
    "pipeline = Pipeline(stages = [SI_emp_title_id, SI_sex, SI_dept_no, \n",
    " SI_last_performance, OHE_emp_title_id, OHE_sex, OHE_dept_no,\n",
    " OHE_last_performance, assembler, rf])"
   ]
  },
  {
   "cell_type": "code",
   "execution_count": 284,
   "metadata": {},
   "outputs": [],
   "source": [
    "# creating another copy of the main dataframe\n",
    "\n",
    "final_employees_df2 = final_employees_df"
   ]
  },
  {
   "cell_type": "code",
   "execution_count": 287,
   "metadata": {},
   "outputs": [],
   "source": [
    "\n",
    "\n",
    "final_employees_df2 = final_employees_df2.withColumn('label', final_employees_df2.label.cast(IntegerType()))"
   ]
  },
  {
   "cell_type": "code",
   "execution_count": 291,
   "metadata": {},
   "outputs": [],
   "source": [
    "training_df, testing_df = final_employees_df2.randomSplit([0.7, 0.3], seed=123)"
   ]
  },
  {
   "cell_type": "code",
   "execution_count": 292,
   "metadata": {},
   "outputs": [],
   "source": [
    "model2 = pipeline.fit(training_df)"
   ]
  },
  {
   "cell_type": "code",
   "execution_count": 293,
   "metadata": {},
   "outputs": [],
   "source": [
    "pred_training = model2.transform(training_df)"
   ]
  },
  {
   "cell_type": "code",
   "execution_count": 294,
   "metadata": {},
   "outputs": [
    {
     "name": "stdout",
     "output_type": "stream",
     "text": [
      "\n",
      "    Accuracy  = 0.99801349111073\n",
      "    Error     = 0.001986508889269989\n",
      "    Precision = 0.9980163935656063\n",
      "    Recall    = 0.99801349111073\n",
      "    F1        = 0.9980050635949742\n"
     ]
    }
   ],
   "source": [
    "evaluate_model(pred_training)"
   ]
  },
  {
   "cell_type": "code",
   "execution_count": null,
   "metadata": {},
   "outputs": [],
   "source": []
  }
 ],
 "metadata": {
  "kernelspec": {
   "display_name": "Python 3",
   "language": "python",
   "name": "python3"
  },
  "language_info": {
   "codemirror_mode": {
    "name": "ipython",
    "version": 3
   },
   "file_extension": ".py",
   "mimetype": "text/x-python",
   "name": "python",
   "nbconvert_exporter": "python",
   "pygments_lexer": "ipython3",
   "version": "3.7.6"
  }
 },
 "nbformat": 4,
 "nbformat_minor": 4
}
